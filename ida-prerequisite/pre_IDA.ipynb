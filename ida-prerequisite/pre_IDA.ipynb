{
 "cells": [
  {
   "cell_type": "code",
   "execution_count": 10,
   "id": "4ab9135d-eec8-4c60-a1bc-3a6ce124c1ad",
   "metadata": {},
   "outputs": [
    {
     "name": "stderr",
     "output_type": "stream",
     "text": [
      "\n",
      "Attaching package: 'dplyr'\n",
      "\n",
      "\n",
      "The following objects are masked from 'package:stats':\n",
      "\n",
      "    filter, lag\n",
      "\n",
      "\n",
      "The following objects are masked from 'package:base':\n",
      "\n",
      "    intersect, setdiff, setequal, union\n",
      "\n",
      "\n",
      "\u001b[1mRows: \u001b[22m\u001b[34m29\u001b[39m \u001b[1mColumns: \u001b[22m\u001b[34m13\u001b[39m\n",
      "\u001b[36m──\u001b[39m \u001b[1mColumn specification\u001b[22m \u001b[36m────────────────────────────────────────────────────────────────────────────────────────────────\u001b[39m\n",
      "\u001b[1mDelimiter:\u001b[22m \",\"\n",
      "\u001b[31mchr\u001b[39m (13): What was your last semester's grade point average?, Are you curren...\n",
      "\n",
      "\u001b[36mℹ\u001b[39m Use `spec()` to retrieve the full column specification for this data.\n",
      "\u001b[36mℹ\u001b[39m Specify the column types or set `show_col_types = FALSE` to quiet this message.\n"
     ]
    },
    {
     "data": {
      "text/html": [
       "<table class=\"dataframe\">\n",
       "<caption>A tibble: 6 × 13</caption>\n",
       "<thead>\n",
       "\t<tr><th scope=col>What was your last semester's grade point average?</th><th scope=col>Are you currently working part-time?</th><th scope=col>How many hours do you work each week?</th><th scope=col>What is your main reason for part-time work?</th><th scope=col>How is your working environment?</th><th scope=col>Is your employer supportive of your academic schedules?</th><th scope=col>Do you feel exhausted both physically or mentally after work?</th><th scope=col>Can you adjust your schedules during exam time?</th><th scope=col>How many hours a week do you study outside of class?</th><th scope=col>When is the best time for you to study?</th><th scope=col>Do you think your work has an impact on your grades?</th><th scope=col>How do you balance your time between work and study?</th><th scope=col>Do you struggle to balance your job and studies?</th></tr>\n",
       "\t<tr><th scope=col>&lt;chr&gt;</th><th scope=col>&lt;chr&gt;</th><th scope=col>&lt;chr&gt;</th><th scope=col>&lt;chr&gt;</th><th scope=col>&lt;chr&gt;</th><th scope=col>&lt;chr&gt;</th><th scope=col>&lt;chr&gt;</th><th scope=col>&lt;chr&gt;</th><th scope=col>&lt;chr&gt;</th><th scope=col>&lt;chr&gt;</th><th scope=col>&lt;chr&gt;</th><th scope=col>&lt;chr&gt;</th><th scope=col>&lt;chr&gt;</th></tr>\n",
       "</thead>\n",
       "<tbody>\n",
       "\t<tr><td>71-80%   </td><td>Yes</td><td>11-20</td><td>Financial need        </td><td>Neutral    </td><td>Sometimes</td><td>Sometimes</td><td>Yes</td><td>5-10 hours   </td><td>Night  </td><td>Yes  </td><td>Studies first       </td><td>Occasionally</td></tr>\n",
       "\t<tr><td>50-60%   </td><td>Yes</td><td>21-30</td><td>Financial Independence</td><td>Streeful   </td><td>Sometimes</td><td>Rarely   </td><td>Yes</td><td>5-10 hours   </td><td>Night  </td><td>Maybe</td><td>Balance both equally</td><td>Yes, always </td></tr>\n",
       "\t<tr><td>Below 50%</td><td>Yes</td><td>11-20</td><td>Financial need        </td><td>Neutral    </td><td>Yes      </td><td>Sometimes</td><td>No </td><td>Below 5 hours</td><td>Night  </td><td>Yes  </td><td>Balance both equally</td><td>Yes, always </td></tr>\n",
       "\t<tr><td>50-60%   </td><td>Yes</td><td>21-30</td><td>Financial need        </td><td>Comfortable</td><td>Yes      </td><td>Sometimes</td><td>Yes</td><td>Below 5 hours</td><td>Night  </td><td>Yes  </td><td>Balance both equally</td><td>Yes, always </td></tr>\n",
       "\t<tr><td>71-80%   </td><td>Yes</td><td>21-30</td><td>Financial Independence</td><td>Neutral    </td><td>Yes      </td><td>Sometimes</td><td>Yes</td><td>Below 5 hours</td><td>Evening</td><td>Yes  </td><td>Balance both equally</td><td>Yes, always </td></tr>\n",
       "\t<tr><td>50-60%   </td><td>Yes</td><td>21-30</td><td>Financial need        </td><td>Neutral    </td><td>Yes      </td><td>Sometimes</td><td>Yes</td><td>5-10 hours   </td><td>Night  </td><td>Maybe</td><td>Balance both equally</td><td>Occasionally</td></tr>\n",
       "</tbody>\n",
       "</table>\n"
      ],
      "text/latex": [
       "A tibble: 6 × 13\n",
       "\\begin{tabular}{lllllllllllll}\n",
       " What was your last semester's grade point average? & Are you currently working part-time? & How many hours do you work each week? & What is your main reason for part-time work? & How is your working environment? & Is your employer supportive of your academic schedules? & Do you feel exhausted both physically or mentally after work? & Can you adjust your schedules during exam time? & How many hours a week do you study outside of class? & When is the best time for you to study? & Do you think your work has an impact on your grades? & How do you balance your time between work and study? & Do you struggle to balance your job and studies?\\\\\n",
       " <chr> & <chr> & <chr> & <chr> & <chr> & <chr> & <chr> & <chr> & <chr> & <chr> & <chr> & <chr> & <chr>\\\\\n",
       "\\hline\n",
       "\t 71-80\\%    & Yes & 11-20 & Financial need         & Neutral     & Sometimes & Sometimes & Yes & 5-10 hours    & Night   & Yes   & Studies first        & Occasionally\\\\\n",
       "\t 50-60\\%    & Yes & 21-30 & Financial Independence & Streeful    & Sometimes & Rarely    & Yes & 5-10 hours    & Night   & Maybe & Balance both equally & Yes, always \\\\\n",
       "\t Below 50\\% & Yes & 11-20 & Financial need         & Neutral     & Yes       & Sometimes & No  & Below 5 hours & Night   & Yes   & Balance both equally & Yes, always \\\\\n",
       "\t 50-60\\%    & Yes & 21-30 & Financial need         & Comfortable & Yes       & Sometimes & Yes & Below 5 hours & Night   & Yes   & Balance both equally & Yes, always \\\\\n",
       "\t 71-80\\%    & Yes & 21-30 & Financial Independence & Neutral     & Yes       & Sometimes & Yes & Below 5 hours & Evening & Yes   & Balance both equally & Yes, always \\\\\n",
       "\t 50-60\\%    & Yes & 21-30 & Financial need         & Neutral     & Yes       & Sometimes & Yes & 5-10 hours    & Night   & Maybe & Balance both equally & Occasionally\\\\\n",
       "\\end{tabular}\n"
      ],
      "text/markdown": [
       "\n",
       "A tibble: 6 × 13\n",
       "\n",
       "| What was your last semester's grade point average? &lt;chr&gt; | Are you currently working part-time? &lt;chr&gt; | How many hours do you work each week? &lt;chr&gt; | What is your main reason for part-time work? &lt;chr&gt; | How is your working environment? &lt;chr&gt; | Is your employer supportive of your academic schedules? &lt;chr&gt; | Do you feel exhausted both physically or mentally after work? &lt;chr&gt; | Can you adjust your schedules during exam time? &lt;chr&gt; | How many hours a week do you study outside of class? &lt;chr&gt; | When is the best time for you to study? &lt;chr&gt; | Do you think your work has an impact on your grades? &lt;chr&gt; | How do you balance your time between work and study? &lt;chr&gt; | Do you struggle to balance your job and studies? &lt;chr&gt; |\n",
       "|---|---|---|---|---|---|---|---|---|---|---|---|---|\n",
       "| 71-80%    | Yes | 11-20 | Financial need         | Neutral     | Sometimes | Sometimes | Yes | 5-10 hours    | Night   | Yes   | Studies first        | Occasionally |\n",
       "| 50-60%    | Yes | 21-30 | Financial Independence | Streeful    | Sometimes | Rarely    | Yes | 5-10 hours    | Night   | Maybe | Balance both equally | Yes, always  |\n",
       "| Below 50% | Yes | 11-20 | Financial need         | Neutral     | Yes       | Sometimes | No  | Below 5 hours | Night   | Yes   | Balance both equally | Yes, always  |\n",
       "| 50-60%    | Yes | 21-30 | Financial need         | Comfortable | Yes       | Sometimes | Yes | Below 5 hours | Night   | Yes   | Balance both equally | Yes, always  |\n",
       "| 71-80%    | Yes | 21-30 | Financial Independence | Neutral     | Yes       | Sometimes | Yes | Below 5 hours | Evening | Yes   | Balance both equally | Yes, always  |\n",
       "| 50-60%    | Yes | 21-30 | Financial need         | Neutral     | Yes       | Sometimes | Yes | 5-10 hours    | Night   | Maybe | Balance both equally | Occasionally |\n",
       "\n"
      ],
      "text/plain": [
       "  What was your last semester's grade point average?\n",
       "1 71-80%                                            \n",
       "2 50-60%                                            \n",
       "3 Below 50%                                         \n",
       "4 50-60%                                            \n",
       "5 71-80%                                            \n",
       "6 50-60%                                            \n",
       "  Are you currently working part-time? How many hours do you work each week?\n",
       "1 Yes                                  11-20                                \n",
       "2 Yes                                  21-30                                \n",
       "3 Yes                                  11-20                                \n",
       "4 Yes                                  21-30                                \n",
       "5 Yes                                  21-30                                \n",
       "6 Yes                                  21-30                                \n",
       "  What is your main reason for part-time work? How is your working environment?\n",
       "1 Financial need                               Neutral                         \n",
       "2 Financial Independence                       Streeful                        \n",
       "3 Financial need                               Neutral                         \n",
       "4 Financial need                               Comfortable                     \n",
       "5 Financial Independence                       Neutral                         \n",
       "6 Financial need                               Neutral                         \n",
       "  Is your employer supportive of your academic schedules?\n",
       "1 Sometimes                                              \n",
       "2 Sometimes                                              \n",
       "3 Yes                                                    \n",
       "4 Yes                                                    \n",
       "5 Yes                                                    \n",
       "6 Yes                                                    \n",
       "  Do you feel exhausted both physically or mentally after work?\n",
       "1 Sometimes                                                    \n",
       "2 Rarely                                                       \n",
       "3 Sometimes                                                    \n",
       "4 Sometimes                                                    \n",
       "5 Sometimes                                                    \n",
       "6 Sometimes                                                    \n",
       "  Can you adjust your schedules during exam time?\n",
       "1 Yes                                            \n",
       "2 Yes                                            \n",
       "3 No                                             \n",
       "4 Yes                                            \n",
       "5 Yes                                            \n",
       "6 Yes                                            \n",
       "  How many hours a week do you study outside of class?\n",
       "1 5-10 hours                                          \n",
       "2 5-10 hours                                          \n",
       "3 Below 5 hours                                       \n",
       "4 Below 5 hours                                       \n",
       "5 Below 5 hours                                       \n",
       "6 5-10 hours                                          \n",
       "  When is the best time for you to study?\n",
       "1 Night                                  \n",
       "2 Night                                  \n",
       "3 Night                                  \n",
       "4 Night                                  \n",
       "5 Evening                                \n",
       "6 Night                                  \n",
       "  Do you think your work has an impact on your grades?\n",
       "1 Yes                                                 \n",
       "2 Maybe                                               \n",
       "3 Yes                                                 \n",
       "4 Yes                                                 \n",
       "5 Yes                                                 \n",
       "6 Maybe                                               \n",
       "  How do you balance your time between work and study?\n",
       "1 Studies first                                       \n",
       "2 Balance both equally                                \n",
       "3 Balance both equally                                \n",
       "4 Balance both equally                                \n",
       "5 Balance both equally                                \n",
       "6 Balance both equally                                \n",
       "  Do you struggle to balance your job and studies?\n",
       "1 Occasionally                                    \n",
       "2 Yes, always                                     \n",
       "3 Yes, always                                     \n",
       "4 Yes, always                                     \n",
       "5 Yes, always                                     \n",
       "6 Occasionally                                    "
      ]
     },
     "metadata": {},
     "output_type": "display_data"
    }
   ],
   "source": [
    "# Load the necessary libraries\n",
    "library(readr)\n",
    "library(dplyr)\n",
    "# Load your dataset (replace the path with your actual file location)\n",
    "data <- read_csv(\"data.csv\")\n",
    "\n",
    "# View the first few rows of the dataset\n",
    "head(data)\n",
    "# Check the structure of the dataset\n",
    "#str(data)\n",
    "\n",
    "# View summary statistics\n",
    "#summary(data)\n",
    "#nrow(data)\n"
   ]
  },
  {
   "cell_type": "code",
   "execution_count": 14,
   "id": "9cf6a814-f72b-4d0c-8485-b65d8c01f65f",
   "metadata": {},
   "outputs": [],
   "source": [
    "# Map grade percentage ranges to numeric values\n",
    "data$Grade_Percentage <- recode(data$`What was your last semester's grade point average?`,\n",
    "                                \"Below 50%\" = 45, \"50-60%\" = 55, \"71-80%\" = 75.5, \"Above 80%\" = 85)\n",
    "\n",
    "# Map weekly work hours ranges to numeric values\n",
    "data$Weekly_Work_Hours <- recode(data$`How many hours do you work each week?`,\n",
    "                                 \"1-10\" = 5, \"11-20\" = 15.5, \"21-30\" = 25.5, \"Over 30\" = 35)\n",
    "\n",
    "# Map study hours ranges to numeric values\n",
    "data$Study_Hours <- recode(data$`How many hours a week do you study outside of class?`,\n",
    "                           \"Below 5 hours\" = 2.5, \"5-10 hours\" = 7.5, \"11-20 hours\" = 15.5, \"Above 20 hours\" = 25)\n",
    "\n",
    "# Convert work environment to a factor\n",
    "data$Work_Environment <- as.factor(data$`How is your working environment?`)\n"
   ]
  },
  {
   "cell_type": "code",
   "execution_count": 15,
   "id": "f0472cf6-6589-4b71-95f7-02ef3a3c8056",
   "metadata": {},
   "outputs": [
    {
     "data": {
      "text/html": [
       "<table class=\"dataframe\">\n",
       "<caption>A tibble: 6 × 4</caption>\n",
       "<thead>\n",
       "\t<tr><th scope=col>Grade_Percentage</th><th scope=col>Weekly_Work_Hours</th><th scope=col>Work_Environment</th><th scope=col>Study_Hours</th></tr>\n",
       "\t<tr><th scope=col>&lt;dbl&gt;</th><th scope=col>&lt;dbl&gt;</th><th scope=col>&lt;fct&gt;</th><th scope=col>&lt;dbl&gt;</th></tr>\n",
       "</thead>\n",
       "<tbody>\n",
       "\t<tr><td>75.5</td><td>15.5</td><td>Neutral    </td><td>7.5</td></tr>\n",
       "\t<tr><td>55.0</td><td>25.5</td><td>Streeful   </td><td>7.5</td></tr>\n",
       "\t<tr><td>45.0</td><td>15.5</td><td>Neutral    </td><td>2.5</td></tr>\n",
       "\t<tr><td>55.0</td><td>25.5</td><td>Comfortable</td><td>2.5</td></tr>\n",
       "\t<tr><td>75.5</td><td>25.5</td><td>Neutral    </td><td>2.5</td></tr>\n",
       "\t<tr><td>55.0</td><td>25.5</td><td>Neutral    </td><td>7.5</td></tr>\n",
       "</tbody>\n",
       "</table>\n"
      ],
      "text/latex": [
       "A tibble: 6 × 4\n",
       "\\begin{tabular}{llll}\n",
       " Grade\\_Percentage & Weekly\\_Work\\_Hours & Work\\_Environment & Study\\_Hours\\\\\n",
       " <dbl> & <dbl> & <fct> & <dbl>\\\\\n",
       "\\hline\n",
       "\t 75.5 & 15.5 & Neutral     & 7.5\\\\\n",
       "\t 55.0 & 25.5 & Streeful    & 7.5\\\\\n",
       "\t 45.0 & 15.5 & Neutral     & 2.5\\\\\n",
       "\t 55.0 & 25.5 & Comfortable & 2.5\\\\\n",
       "\t 75.5 & 25.5 & Neutral     & 2.5\\\\\n",
       "\t 55.0 & 25.5 & Neutral     & 7.5\\\\\n",
       "\\end{tabular}\n"
      ],
      "text/markdown": [
       "\n",
       "A tibble: 6 × 4\n",
       "\n",
       "| Grade_Percentage &lt;dbl&gt; | Weekly_Work_Hours &lt;dbl&gt; | Work_Environment &lt;fct&gt; | Study_Hours &lt;dbl&gt; |\n",
       "|---|---|---|---|\n",
       "| 75.5 | 15.5 | Neutral     | 7.5 |\n",
       "| 55.0 | 25.5 | Streeful    | 7.5 |\n",
       "| 45.0 | 15.5 | Neutral     | 2.5 |\n",
       "| 55.0 | 25.5 | Comfortable | 2.5 |\n",
       "| 75.5 | 25.5 | Neutral     | 2.5 |\n",
       "| 55.0 | 25.5 | Neutral     | 7.5 |\n",
       "\n"
      ],
      "text/plain": [
       "  Grade_Percentage Weekly_Work_Hours Work_Environment Study_Hours\n",
       "1 75.5             15.5              Neutral          7.5        \n",
       "2 55.0             25.5              Streeful         7.5        \n",
       "3 45.0             15.5              Neutral          2.5        \n",
       "4 55.0             25.5              Comfortable      2.5        \n",
       "5 75.5             25.5              Neutral          2.5        \n",
       "6 55.0             25.5              Neutral          7.5        "
      ]
     },
     "metadata": {},
     "output_type": "display_data"
    },
    {
     "data": {
      "text/html": [
       "29"
      ],
      "text/latex": [
       "29"
      ],
      "text/markdown": [
       "29"
      ],
      "text/plain": [
       "[1] 29"
      ]
     },
     "metadata": {},
     "output_type": "display_data"
    }
   ],
   "source": [
    "# Select relevant columns\n",
    "data_clean <- data %>%\n",
    "  select(Grade_Percentage, Weekly_Work_Hours, Work_Environment, Study_Hours) %>%\n",
    "  na.omit()\n",
    "\n",
    "# View cleaned data\n",
    "head(data_clean)\n",
    "nrow(data_clean)"
   ]
  },
  {
   "cell_type": "code",
   "execution_count": 16,
   "id": "a3998c01-e43c-4aee-8ad5-bbc0a17a8f01",
   "metadata": {},
   "outputs": [
    {
     "data": {
      "text/plain": [
       "\n",
       "Call:\n",
       "lm(formula = Grade_Percentage ~ Weekly_Work_Hours + Work_Environment + \n",
       "    Study_Hours, data = data_clean)\n",
       "\n",
       "Residuals:\n",
       "    Min      1Q  Median      3Q     Max \n",
       "-19.532 -11.838   1.564   8.662  20.468 \n",
       "\n",
       "Coefficients:\n",
       "                         Estimate Std. Error t value Pr(>|t|)    \n",
       "(Intercept)               65.5533    11.1344   5.887  4.5e-06 ***\n",
       "Weekly_Work_Hours         -0.2972     0.4009  -0.741    0.466    \n",
       "Work_EnvironmentNeutral   -2.3051     5.5764  -0.413    0.683    \n",
       "Work_EnvironmentStreeful   9.4543     7.8616   1.203    0.241    \n",
       "Study_Hours                0.7854     0.5219   1.505    0.145    \n",
       "---\n",
       "Signif. codes:  0 '***' 0.001 '**' 0.01 '*' 0.05 '.' 0.1 ' ' 1\n",
       "\n",
       "Residual standard error: 12.81 on 24 degrees of freedom\n",
       "Multiple R-squared:  0.1815,\tAdjusted R-squared:  0.04507 \n",
       "F-statistic:  1.33 on 4 and 24 DF,  p-value: 0.2874\n"
      ]
     },
     "metadata": {},
     "output_type": "display_data"
    }
   ],
   "source": [
    "# Fit the multiple linear regression model\n",
    "model <- lm(Grade_Percentage ~ Weekly_Work_Hours + Work_Environment + Study_Hours, data = data_clean)\n",
    "\n",
    "# View the summary of the model\n",
    "summary(model)\n"
   ]
  },
  {
   "cell_type": "code",
   "execution_count": 17,
   "id": "ba666ba2-365f-4a44-98d2-05618482e89c",
   "metadata": {},
   "outputs": [
    {
     "ename": "ERROR",
     "evalue": "Error in vif(model): could not find function \"vif\"\n",
     "output_type": "error",
     "traceback": [
      "Error in vif(model): could not find function \"vif\"\nTraceback:\n"
     ]
    }
   ],
   "source": [
    "\n",
    "vif(model)\n"
   ]
  },
  {
   "cell_type": "code",
   "execution_count": 18,
   "id": "2b5d7cf5-d122-4215-afe6-7cbb2d30460e",
   "metadata": {},
   "outputs": [
    {
     "data": {
      "image/png": "[encoded data removed]",
      "text/plain": [
       "Plot with title \"Residuals vs Leverage\""
      ]
     },
     "metadata": {
      "image/png": {
       "height": 420,
       "width": 420
      }
     },
     "output_type": "display_data"
    }
   ],
   "source": [
    "# Example of diagnostic plots with colors\n",
    "par(mfrow = c(2, 2))\n",
    "\n",
    "# Residuals vs Fitted plot with colored points\n",
    "plot(model, which = 1, col = \"blue\", pch = 19, main = \"Residuals vs Fitted\")\n",
    "\n",
    "# Q-Q plot with colored points\n",
    "plot(model, which = 2, col = \"red\", pch = 17, main = \"Normal Q-Q Plot\")\n",
    "\n",
    "# Scale-Location plot with colored points\n",
    "plot(model, which = 3, col = \"green\", pch = 15, main = \"Scale-Location Plot\")\n",
    "\n",
    "# Residuals vs Leverage plot with colored points\n",
    "plot(model, which = 4, col = \"purple\", pch = 18, main = \"Residuals vs Leverage\")\n",
    "\n"
   ]
  },
  {
   "cell_type": "code",
   "execution_count": 7,
   "id": "60b8f80a-6c3c-4105-a5af-4a3b562d9abb",
   "metadata": {},
   "outputs": [
    {
     "name": "stdout",
     "output_type": "stream",
     "text": [
      "[1] \"\\nCorrelation Matrix:\"\n",
      "                  Grade_Percentage Weekly_Work_Hours Study_Hours\n",
      "Grade_Percentage         1.0000000        -0.1871366   0.3267089\n",
      "Weekly_Work_Hours       -0.1871366         1.0000000  -0.4624778\n",
      "Study_Hours              0.3267089        -0.4624778   1.0000000\n"
     ]
    }
   ],
   "source": [
    "# Additional analysis: correlation matrix\n",
    "numeric_vars <- data[c(\"Grade_Percentage\", \"Weekly_Work_Hours\", \"Study_Hours\")]\n",
    "cor_matrix <- cor(numeric_vars, use = \"complete.obs\")\n",
    "print(\"\\nCorrelation Matrix:\")\n",
    "print(cor_matrix)"
   ]
  },
  {
   "cell_type": "code",
   "execution_count": 19,
   "id": "5370b699-68bd-476d-a4ec-cbc4ab14a0ca",
   "metadata": {},
   "outputs": [
    {
     "data": {
      "image/png": "[encoded data removed]",
      "text/plain": [
       "Plot with title \"Residuals vs Fitted Values\""
      ]
     },
     "metadata": {
      "image/png": {
       "height": 420,
       "width": 420
      }
     },
     "output_type": "display_data"
    },
    {
     "data": {
      "image/png": "[encoded data removed]",
      "text/plain": [
       "Plot with title \"Histogram of Residuals\""
      ]
     },
     "metadata": {
      "image/png": {
       "height": 420,
       "width": 420
      }
     },
     "output_type": "display_data"
    },
    {
     "data": {
      "image/png": "[encoded data removed]",
      "text/plain": [
       "Plot with title \"Q-Q Plot of Residuals\""
      ]
     },
     "metadata": {
      "image/png": {
       "height": 420,
       "width": 420
      }
     },
     "output_type": "display_data"
    },
    {
     "data": {
      "image/png": "[encoded data removed]",
      "text/plain": [
       "Plot with title \"Scale-Location Plot\""
      ]
     },
     "metadata": {
      "image/png": {
       "height": 420,
       "width": 420
      }
     },
     "output_type": "display_data"
    },
    {
     "data": {
      "image/png": "[encoded data removed]",
      "text/plain": [
       "Plot with title \"Standardized Residuals\""
      ]
     },
     "metadata": {
      "image/png": {
       "height": 420,
       "width": 420
      }
     },
     "output_type": "display_data"
    }
   ],
   "source": [
    "# Extract residuals and fitted values\n",
    "residuals <- resid(model)\n",
    "fitted_values <- fitted(model)\n",
    "\n",
    "# 1. Residuals vs. Fitted Values Plot\n",
    "plot(fitted_values, residuals,\n",
    "     xlab = \"Fitted Values\",\n",
    "     ylab = \"Residuals\",\n",
    "     main = \"Residuals vs Fitted Values\")\n",
    "abline(h = 0, col = \"red\", lwd = 2)\n",
    "\n",
    "# 2. Normality of Residuals: Histogram\n",
    "hist(residuals, breaks = 10, main = \"Histogram of Residuals\", xlab = \"Residuals\")\n",
    "\n",
    "# 3. Normality of Residuals: Q-Q Plot\n",
    "qqnorm(residuals, main = \"Q-Q Plot of Residuals\")\n",
    "qqline(residuals, col = \"red\", lwd = 2)\n",
    "\n",
    "# 4. Homoscedasticity: Scale-Location Plot\n",
    "plot(fitted_values, sqrt(abs(residuals)),\n",
    "     xlab = \"Fitted Values\",\n",
    "     ylab = \"Square Root of Absolute Residuals\",\n",
    "     main = \"Scale-Location Plot\")\n",
    "abline(h = 0, col = \"red\", lwd = 2)\n",
    "\n",
    "# 5. Outliers: Standardized Residuals\n",
    "std_res <- rstandard(model)\n",
    "plot(std_res, ylab = \"Standardized Residuals\", xlab = \"Index\",\n",
    "     main = \"Standardized Residuals\")\n",
    "abline(h = c(-2, 2), col = \"red\", lty = 2)\n"
   ]
  },
  {
   "cell_type": "code",
   "execution_count": 9,
   "id": "a4aea6f7-0f6f-46c5-94a1-4de4f9cf1418",
   "metadata": {},
   "outputs": [
    {
     "name": "stdout",
     "output_type": "stream",
     "text": [
      "       1        2 \n",
      "72.05747 79.24482 \n"
     ]
    }
   ],
   "source": [
    "# New data for prediction\n",
    "new_data <- data.frame(\n",
    "  Weekly_Work_Hours = c(10, 20),\n",
    "  Work_Environment = factor(c(\"Neutral\", \"Comfortable\"), levels = levels(data_clean$Work_Environment)),\n",
    "  Study_Hours = c(15, 25)\n",
    ")\n",
    "\n",
    "# Predict grades\n",
    "predictions <- predict(model, newdata = new_data)\n",
    "print(predictions)\n"
   ]
  },
  {
   "cell_type": "code",
   "execution_count": 8,
   "id": "795e15f1-ca32-4b63-9160-22fd1dc51680",
   "metadata": {},
   "outputs": [
    {
     "name": "stderr",
     "output_type": "stream",
     "text": [
      "Loading required package: carData\n",
      "\n",
      "lattice theme set by effectsTheme()\n",
      "See ?effectsTheme for details.\n",
      "\n"
     ]
    },
    {
     "data": {
      "image/png": "[encoded data removed]",
      "text/plain": [
       "plot without title"
      ]
     },
     "metadata": {
      "image/png": {
       "height": 420,
       "width": 420
      }
     },
     "output_type": "display_data"
    }
   ],
   "source": [
    "library(effects)\n",
    "plot(allEffects(model))"
   ]
  },
  {
   "cell_type": "code",
   "execution_count": 2,
   "id": "5b740c4f-ad76-4c4b-b449-968a6a12522b",
   "metadata": {},
   "outputs": [
    {
     "ename": "ERROR",
     "evalue": "Error: object 'model' not found\n",
     "output_type": "error",
     "traceback": [
      "Error: object 'model' not found\nTraceback:\n",
      "1. .handleSimpleError(function (cnd) \n . {\n .     watcher$capture_plot_and_output()\n .     cnd <- sanitize_call(cnd)\n .     watcher$push(cnd)\n .     switch(on_error, continue = invokeRestart(\"eval_continue\"), \n .         stop = invokeRestart(\"eval_stop\"), error = invokeRestart(\"eval_error\", \n .             cnd))\n . }, \"object 'model' not found\", base::quote(eval(expr, envir)))"
     ]
    }
   ],
   "source": [
    "# Extract residuals and fitted values\n",
    "residuals <- resid(model)\n",
    "fitted_values <- fitted(model)\n",
    "\n",
    "# 1. Residuals vs. Fitted Values Plot\n",
    "plot(fitted_values, residuals,\n",
    "     xlab = \"Fitted Values\",\n",
    "     ylab = \"Residuals\",\n",
    "     main = \"Residuals vs Fitted Values\")\n",
    "abline(h = 0, col = \"red\", lwd = 2)\n",
    "\n",
    "# 2. Normality of Residuals: Histogram\n",
    "hist(residuals, breaks = 10, main = \"Histogram of Residuals\", xlab = \"Residuals\")\n",
    "\n",
    "# 3. Normality of Residuals: Q-Q Plot\n",
    "qqnorm(residuals, main = \"Q-Q Plot of Residuals\")\n",
    "qqline(residuals, col = \"red\", lwd = 2)\n",
    "\n",
    "# 4. Homoscedasticity: Scale-Location Plot\n",
    "plot(fitted_values, sqrt(abs(residuals)),\n",
    "     xlab = \"Fitted Values\",\n",
    "     ylab = \"Square Root of Absolute Residuals\",\n",
    "     main = \"Scale-Location Plot\")\n",
    "abline(h = 0, col = \"red\", lwd = 2)\n",
    "\n",
    "# 5. Outliers: Standardized Residuals\n",
    "std_res <- rstandard(model)\n",
    "plot(std_res, ylab = \"Standardized Residuals\", xlab = \"Index\",\n",
    "     main = \"Standardized Residuals\")\n",
    "abline(h = c(-2, 2), col = \"red\", lty = 2)\n"
   ]
  },
  {
   "cell_type": "code",
   "execution_count": null,
   "id": "38dd5954-cda5-468b-ab71-04832cbecce8",
   "metadata": {},
   "outputs": [],
   "source": []
  }
 ],
 "metadata": {
  "kernelspec": {
   "display_name": "R",
   "language": "R",
   "name": "ir"
  },
  "language_info": {
   "codemirror_mode": "r",
   "file_extension": ".r",
   "mimetype": "text/x-r-source",
   "name": "R",
   "pygments_lexer": "r",
   "version": "4.4.2"
  }
 },
 "nbformat": 4,
 "nbformat_minor": 5
}
